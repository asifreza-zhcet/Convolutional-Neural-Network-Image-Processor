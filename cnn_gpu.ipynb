{
  "cells": [
    {
      "cell_type": "markdown",
      "metadata": {},
      "source": [
        "## 1. Imporiting important libaries"
      ]
    },
    {
      "cell_type": "code",
      "execution_count": 11,
      "metadata": {
        "id": "8YAdgj_OSf9c"
      },
      "outputs": [],
      "source": [
        "from tensorflow.keras import Sequential\n",
        "from tensorflow.keras.layers import Dense, Flatten, Conv2D, MaxPooling2D, BatchNormalization, Dropout, Input\n",
        "from tensorflow.keras.preprocessing.image import ImageDataGenerator\n",
        "from keras.utils import plot_model, image_dataset_from_directory\n",
        "import numpy as np\n",
        "import os\n",
        "from sklearn.model_selection import train_test_split\n",
        "import shutil\n",
        "import keras\n",
        "import matplotlib.pyplot as plt"
      ]
    },
    {
      "cell_type": "markdown",
      "metadata": {},
      "source": [
        "## 2. Spliting the data into train and test files"
      ]
    },
    {
      "cell_type": "markdown",
      "metadata": {},
      "source": [
        "### 2.1 First creating two directories: Train and Test"
      ]
    },
    {
      "cell_type": "code",
      "execution_count": 3,
      "metadata": {
        "colab": {
          "base_uri": "https://localhost:8080/"
        },
        "id": "ucYf86SnWJK_",
        "outputId": "23a11f56-2c69-4eda-8a9e-afa6a90c0b0d"
      },
      "outputs": [
        {
          "data": {
            "text/plain": [
              "['C:\\\\Users\\\\rezaa\\\\spyder\\\\Convolutional-Neural-Network-Image-Processor\\\\data\\\\train',\n",
              " 'C:\\\\Users\\\\rezaa\\\\spyder\\\\Convolutional-Neural-Network-Image-Processor\\\\data\\\\test']"
            ]
          },
          "execution_count": 3,
          "metadata": {},
          "output_type": "execute_result"
        }
      ],
      "source": [
        "src = r\"C:\\Users\\rezaa\\spyder\\Convolutional-Neural-Network-Image-Processor\\Animals\"\n",
        "dst = r\"C:\\Users\\rezaa\\spyder\\Convolutional-Neural-Network-Image-Processor\\data\"\n",
        "\n",
        "final_dir = ['train', 'test']\n",
        "final_dir = [os.path.join(dst,final) for final in final_dir]\n",
        "final_dir"
      ]
    },
    {
      "cell_type": "markdown",
      "metadata": {},
      "source": [
        "### 2.2 Creating the directories"
      ]
    },
    {
      "cell_type": "code",
      "execution_count": 4,
      "metadata": {
        "id": "JlYAHfrCWPV3"
      },
      "outputs": [],
      "source": [
        "\n",
        "all_dir = os.listdir(src)\n",
        "os.mkdir(dst)\n",
        "\n",
        "for final in final_dir:\n",
        "    os.mkdir(final)\n",
        "    for each_dir in all_dir:\n",
        "        path2 = os.path.join(final, each_dir)\n",
        "        os.mkdir(path2)"
      ]
    },
    {
      "cell_type": "markdown",
      "metadata": {},
      "source": [
        "### 2.3 Copying the files from parent directory, spliting it into train and test (80:20) and then copying in the above created files"
      ]
    },
    {
      "cell_type": "code",
      "execution_count": 5,
      "metadata": {
        "id": "X_AF67MYWtjJ"
      },
      "outputs": [],
      "source": [
        "\n",
        "for each_dir in all_dir:\n",
        "    path3 = os.path.join(src,each_dir)\n",
        "    list_of_items = os.listdir(path3)\n",
        "    x_train, x_test = train_test_split(list_of_items, random_state=0, test_size=0.2)\n",
        "    paste = True\n",
        "    for final in final_dir:\n",
        "        path4 = os.path.join(final,each_dir)\n",
        "        if paste:\n",
        "            for item in x_train:\n",
        "                item_src_path = os.path.join(path3,item)\n",
        "                shutil.copy(item_src_path, path4)\n",
        "\n",
        "            paste = False\n",
        "        else:\n",
        "            for item in x_test:\n",
        "                item_scr_path = os.path.join(path3,item)\n",
        "                shutil.copy(item_scr_path, path4)\n"
      ]
    },
    {
      "cell_type": "markdown",
      "metadata": {},
      "source": [
        "## 3. Since the amount of data is less we are using Imagegenerator to create additional data"
      ]
    },
    {
      "cell_type": "code",
      "execution_count": 6,
      "metadata": {
        "id": "E5OVwemmPv4D"
      },
      "outputs": [],
      "source": [
        "train_datagen = ImageDataGenerator(\n",
        "    rescale=1./255,\n",
        "    shear_range=0.2,\n",
        "    zoom_range=0.2,\n",
        "    horizontal_flip=True\n",
        ")\n",
        "\n",
        "test_datagen = ImageDataGenerator(rescale=1./255)"
      ]
    },
    {
      "cell_type": "code",
      "execution_count": 7,
      "metadata": {
        "colab": {
          "base_uri": "https://localhost:8080/"
        },
        "id": "ohva4_4tQqu5",
        "outputId": "6562a711-fa61-4482-bb79-7f8346b4f27c"
      },
      "outputs": [
        {
          "name": "stdout",
          "output_type": "stream",
          "text": [
            "Found 2400 images belonging to 3 classes.\n",
            "Found 600 images belonging to 3 classes.\n"
          ]
        }
      ],
      "source": [
        "train_ds = train_datagen.flow_from_directory(\n",
        "    r'C:\\Users\\rezaa\\Desktop\\x\\train',\n",
        "    target_size=(200, 200),\n",
        "    batch_size=32,\n",
        "    class_mode='categorical')\n",
        "\n",
        "test_ds = test_datagen.flow_from_directory(\n",
        "    r'C:\\Users\\rezaa\\Desktop\\x\\test',\n",
        "    target_size=(200, 200),\n",
        "    batch_size=32,\n",
        "    class_mode='categorical')"
      ]
    },
    {
      "cell_type": "markdown",
      "metadata": {},
      "source": [
        "## 4. Model Formation: The CNN model has 3 convolution layers and 2 fully connected layer"
      ]
    },
    {
      "cell_type": "code",
      "execution_count": 8,
      "metadata": {
        "colab": {
          "base_uri": "https://localhost:8080/"
        },
        "id": "NQwp1CUcV3Ln",
        "outputId": "7af721d9-cd23-4fe4-cf98-e40388f79085"
      },
      "outputs": [
        {
          "name": "stdout",
          "output_type": "stream",
          "text": [
            "Model: \"sequential\"\n",
            "_________________________________________________________________\n",
            " Layer (type)                Output Shape              Param #   \n",
            "=================================================================\n",
            " conv2d (Conv2D)             (None, 198, 198, 32)      896       \n",
            "                                                                 \n",
            " max_pooling2d (MaxPooling2D  (None, 99, 99, 32)       0         \n",
            " )                                                               \n",
            "                                                                 \n",
            " conv2d_1 (Conv2D)           (None, 97, 97, 32)        9248      \n",
            "                                                                 \n",
            " max_pooling2d_1 (MaxPooling  (None, 48, 48, 32)       0         \n",
            " 2D)                                                             \n",
            "                                                                 \n",
            " conv2d_2 (Conv2D)           (None, 46, 46, 32)        9248      \n",
            "                                                                 \n",
            " max_pooling2d_2 (MaxPooling  (None, 23, 23, 32)       0         \n",
            " 2D)                                                             \n",
            "                                                                 \n",
            " flatten (Flatten)           (None, 16928)             0         \n",
            "                                                                 \n",
            " dense (Dense)               (None, 128)               2166912   \n",
            "                                                                 \n",
            " dense_1 (Dense)             (None, 3)                 387       \n",
            "                                                                 \n",
            "=================================================================\n",
            "Total params: 2,186,691\n",
            "Trainable params: 2,186,691\n",
            "Non-trainable params: 0\n",
            "_________________________________________________________________\n"
          ]
        }
      ],
      "source": [
        "model = Sequential()\n",
        "\n",
        "model.add(Conv2D(32, kernel_size = (3,3), padding='valid',activation='relu', input_shape=(200,200,3)))\n",
        "model.add(MaxPooling2D(pool_size=(2,2), strides=2))\n",
        "\n",
        "model.add(Conv2D(32, kernel_size = (3,3), padding='valid',activation='relu'))\n",
        "model.add(MaxPooling2D(pool_size=(2,2), strides=2))\n",
        "\n",
        "\n",
        "model.add(Conv2D(32,kernel_size = (3,3), padding='valid', activation='relu'))\n",
        "model.add(MaxPooling2D(pool_size=(2,2), strides=2))\n",
        "\n",
        "model.add(Flatten())\n",
        "\n",
        "model.add(Dense(128, activation='relu'))\n",
        "model.add(Dense(3, activation='softmax'))\n",
        "\n",
        "\n",
        "model.summary()"
      ]
    },
    {
      "cell_type": "markdown",
      "metadata": {
        "id": "UClA6lAoitT7"
      },
      "source": [
        "## 5. Model training and validation"
      ]
    },
    {
      "cell_type": "code",
      "execution_count": 9,
      "metadata": {
        "id": "WXMFqsRFXzdh"
      },
      "outputs": [],
      "source": [
        "model.compile(optimizer='adam', loss='categorical_crossentropy', metrics=['accuracy'])"
      ]
    },
    {
      "cell_type": "code",
      "execution_count": 10,
      "metadata": {
        "colab": {
          "base_uri": "https://localhost:8080/",
          "height": 321
        },
        "id": "VOqr0sW0X7QP",
        "outputId": "96376fa6-e815-497f-d38f-8972a7cd237b"
      },
      "outputs": [
        {
          "name": "stdout",
          "output_type": "stream",
          "text": [
            "Epoch 1/25\n",
            "75/75 [==============================] - 23s 256ms/step - loss: 1.0212 - accuracy: 0.4675 - val_loss: 0.9040 - val_accuracy: 0.5583\n",
            "Epoch 2/25\n",
            "75/75 [==============================] - 20s 262ms/step - loss: 0.8010 - accuracy: 0.6263 - val_loss: 0.8906 - val_accuracy: 0.6100\n",
            "Epoch 3/25\n",
            "75/75 [==============================] - 20s 260ms/step - loss: 0.7560 - accuracy: 0.6429 - val_loss: 1.0552 - val_accuracy: 0.5367\n",
            "Epoch 4/25\n",
            "75/75 [==============================] - 20s 264ms/step - loss: 0.7280 - accuracy: 0.6554 - val_loss: 0.6794 - val_accuracy: 0.7033\n",
            "Epoch 5/25\n",
            "75/75 [==============================] - 20s 260ms/step - loss: 0.6767 - accuracy: 0.6904 - val_loss: 1.0380 - val_accuracy: 0.6217\n",
            "Epoch 6/25\n",
            "75/75 [==============================] - 20s 267ms/step - loss: 0.6205 - accuracy: 0.7271 - val_loss: 0.7934 - val_accuracy: 0.6783\n",
            "Epoch 7/25\n",
            "75/75 [==============================] - 20s 263ms/step - loss: 0.5910 - accuracy: 0.7454 - val_loss: 0.6678 - val_accuracy: 0.7217\n",
            "Epoch 8/25\n",
            "75/75 [==============================] - 20s 261ms/step - loss: 0.5699 - accuracy: 0.7563 - val_loss: 0.6656 - val_accuracy: 0.7017\n",
            "Epoch 9/25\n",
            "75/75 [==============================] - 19s 256ms/step - loss: 0.5749 - accuracy: 0.7588 - val_loss: 0.7304 - val_accuracy: 0.7300\n",
            "Epoch 10/25\n",
            "75/75 [==============================] - 20s 261ms/step - loss: 0.5105 - accuracy: 0.7775 - val_loss: 0.7151 - val_accuracy: 0.7100\n",
            "Epoch 11/25\n",
            "75/75 [==============================] - 20s 268ms/step - loss: 0.4960 - accuracy: 0.7879 - val_loss: 0.6615 - val_accuracy: 0.7350\n",
            "Epoch 12/25\n",
            "75/75 [==============================] - 20s 264ms/step - loss: 0.4790 - accuracy: 0.7962 - val_loss: 0.8503 - val_accuracy: 0.6850\n",
            "Epoch 13/25\n",
            "75/75 [==============================] - 20s 269ms/step - loss: 0.4528 - accuracy: 0.8062 - val_loss: 0.7549 - val_accuracy: 0.6983\n",
            "Epoch 14/25\n",
            "75/75 [==============================] - 20s 262ms/step - loss: 0.4427 - accuracy: 0.8158 - val_loss: 0.6261 - val_accuracy: 0.7417\n",
            "Epoch 15/25\n",
            "75/75 [==============================] - 20s 268ms/step - loss: 0.4059 - accuracy: 0.8267 - val_loss: 0.6054 - val_accuracy: 0.7433\n",
            "Epoch 16/25\n",
            "75/75 [==============================] - 21s 281ms/step - loss: 0.4198 - accuracy: 0.8275 - val_loss: 0.8378 - val_accuracy: 0.6833\n",
            "Epoch 17/25\n",
            "75/75 [==============================] - 23s 309ms/step - loss: 0.3737 - accuracy: 0.8454 - val_loss: 0.6078 - val_accuracy: 0.7650\n",
            "Epoch 18/25\n",
            "75/75 [==============================] - 22s 298ms/step - loss: 0.3467 - accuracy: 0.8517 - val_loss: 0.7691 - val_accuracy: 0.7317\n",
            "Epoch 19/25\n",
            "75/75 [==============================] - 23s 300ms/step - loss: 0.3339 - accuracy: 0.8617 - val_loss: 0.6169 - val_accuracy: 0.7533\n",
            "Epoch 20/25\n",
            "75/75 [==============================] - 24s 313ms/step - loss: 0.2919 - accuracy: 0.8875 - val_loss: 0.6762 - val_accuracy: 0.7567\n",
            "Epoch 21/25\n",
            "75/75 [==============================] - 25s 336ms/step - loss: 0.2801 - accuracy: 0.8929 - val_loss: 0.6420 - val_accuracy: 0.7417\n",
            "Epoch 22/25\n",
            "75/75 [==============================] - 28s 361ms/step - loss: 0.2904 - accuracy: 0.8771 - val_loss: 0.7430 - val_accuracy: 0.7583\n",
            "Epoch 23/25\n",
            "75/75 [==============================] - 24s 314ms/step - loss: 0.2731 - accuracy: 0.8921 - val_loss: 0.6465 - val_accuracy: 0.7717\n",
            "Epoch 24/25\n",
            "75/75 [==============================] - 23s 310ms/step - loss: 0.2725 - accuracy: 0.8925 - val_loss: 0.8762 - val_accuracy: 0.7433\n",
            "Epoch 25/25\n",
            "75/75 [==============================] - 26s 346ms/step - loss: 0.2166 - accuracy: 0.9162 - val_loss: 0.7837 - val_accuracy: 0.7550\n"
          ]
        }
      ],
      "source": [
        "history = model.fit(train_ds, epochs=25, validation_data=test_ds) "
      ]
    },
    {
      "cell_type": "markdown",
      "metadata": {},
      "source": [
        "## 6. Plotting the training data"
      ]
    },
    {
      "cell_type": "code",
      "execution_count": 18,
      "metadata": {},
      "outputs": [
        {
          "data": {
            "text/plain": [
              "<matplotlib.legend.Legend at 0x210086abac0>"
            ]
          },
          "execution_count": 18,
          "metadata": {},
          "output_type": "execute_result"
        },
        {
          "data": {
            "image/png": "[encoded data removed]",
            "text/plain": [
              "<Figure size 640x480 with 1 Axes>"
            ]
          },
          "metadata": {},
          "output_type": "display_data"
        }
      ],
      "source": [
        "plt.plot(history.history['accuracy'])\n",
        "plt.plot(history.history['val_accuracy'])\n",
        "plt.xlabel('epochs')\n",
        "plt.ylabel('accuracy')\n",
        "plt.legend(['training data','test data'])"
      ]
    },
    {
      "cell_type": "markdown",
      "metadata": {},
      "source": [
        "## 7. Saving the model"
      ]
    },
    {
      "cell_type": "code",
      "execution_count": 19,
      "metadata": {},
      "outputs": [],
      "source": [
        "model.save('./model/cnn_model.h5')"
      ]
    },
    {
      "cell_type": "code",
      "execution_count": 1,
      "metadata": {},
      "outputs": [],
      "source": [
        "import tensorflow as tf"
      ]
    },
    {
      "cell_type": "code",
      "execution_count": null,
      "metadata": {},
      "outputs": [],
      "source": []
    }
  ],
  "metadata": {
    "accelerator": "GPU",
    "colab": {
      "gpuType": "T4",
      "provenance": []
    },
    "kernelspec": {
      "display_name": "Python 3",
      "name": "python3"
    },
    "language_info": {
      "codemirror_mode": {
        "name": "ipython",
        "version": 3
      },
      "file_extension": ".py",
      "mimetype": "text/x-python",
      "name": "python",
      "nbconvert_exporter": "python",
      "pygments_lexer": "ipython3",
      "version": "3.10.14"
    }
  },
  "nbformat": 4,
  "nbformat_minor": 0
}
